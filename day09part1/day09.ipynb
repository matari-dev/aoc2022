{
 "cells": [
  {
   "cell_type": "code",
   "execution_count": 2,
   "id": "e0c983b4",
   "metadata": {},
   "outputs": [],
   "source": [
    "import pandas as pd"
   ]
  },
  {
   "cell_type": "code",
   "execution_count": 3,
   "id": "141b72e9",
   "metadata": {
    "scrolled": true
   },
   "outputs": [
    {
     "data": {
      "text/html": [
       "<div>\n",
       "<style scoped>\n",
       "    .dataframe tbody tr th:only-of-type {\n",
       "        vertical-align: middle;\n",
       "    }\n",
       "\n",
       "    .dataframe tbody tr th {\n",
       "        vertical-align: top;\n",
       "    }\n",
       "\n",
       "    .dataframe thead th {\n",
       "        text-align: right;\n",
       "    }\n",
       "</style>\n",
       "<table border=\"1\" class=\"dataframe\">\n",
       "  <thead>\n",
       "    <tr style=\"text-align: right;\">\n",
       "      <th></th>\n",
       "      <th>0</th>\n",
       "      <th>1</th>\n",
       "    </tr>\n",
       "  </thead>\n",
       "  <tbody>\n",
       "    <tr>\n",
       "      <th>0</th>\n",
       "      <td>R</td>\n",
       "      <td>1</td>\n",
       "    </tr>\n",
       "    <tr>\n",
       "      <th>1</th>\n",
       "      <td>D</td>\n",
       "      <td>1</td>\n",
       "    </tr>\n",
       "    <tr>\n",
       "      <th>2</th>\n",
       "      <td>U</td>\n",
       "      <td>1</td>\n",
       "    </tr>\n",
       "    <tr>\n",
       "      <th>3</th>\n",
       "      <td>R</td>\n",
       "      <td>2</td>\n",
       "    </tr>\n",
       "    <tr>\n",
       "      <th>4</th>\n",
       "      <td>L</td>\n",
       "      <td>2</td>\n",
       "    </tr>\n",
       "    <tr>\n",
       "      <th>...</th>\n",
       "      <td>...</td>\n",
       "      <td>...</td>\n",
       "    </tr>\n",
       "    <tr>\n",
       "      <th>1995</th>\n",
       "      <td>U</td>\n",
       "      <td>2</td>\n",
       "    </tr>\n",
       "    <tr>\n",
       "      <th>1996</th>\n",
       "      <td>D</td>\n",
       "      <td>6</td>\n",
       "    </tr>\n",
       "    <tr>\n",
       "      <th>1997</th>\n",
       "      <td>L</td>\n",
       "      <td>14</td>\n",
       "    </tr>\n",
       "    <tr>\n",
       "      <th>1998</th>\n",
       "      <td>D</td>\n",
       "      <td>14</td>\n",
       "    </tr>\n",
       "    <tr>\n",
       "      <th>1999</th>\n",
       "      <td>R</td>\n",
       "      <td>12</td>\n",
       "    </tr>\n",
       "  </tbody>\n",
       "</table>\n",
       "<p>2000 rows × 2 columns</p>\n",
       "</div>"
      ],
      "text/plain": [
       "      0   1\n",
       "0     R   1\n",
       "1     D   1\n",
       "2     U   1\n",
       "3     R   2\n",
       "4     L   2\n",
       "...  ..  ..\n",
       "1995  U   2\n",
       "1996  D   6\n",
       "1997  L  14\n",
       "1998  D  14\n",
       "1999  R  12\n",
       "\n",
       "[2000 rows x 2 columns]"
      ]
     },
     "execution_count": 3,
     "metadata": {},
     "output_type": "execute_result"
    }
   ],
   "source": [
    "df = pd.read_csv('input09.txt', header=None)\n",
    "moves = df[0].str.split(expand=True)\n",
    "moves"
   ]
  },
  {
   "cell_type": "markdown",
   "id": "09fad6d2",
   "metadata": {},
   "source": [
    "#### convert series from string to values"
   ]
  },
  {
   "cell_type": "code",
   "execution_count": 4,
   "id": "27c8f827",
   "metadata": {},
   "outputs": [],
   "source": [
    "moves[1] = moves[1].astype(int)"
   ]
  },
  {
   "cell_type": "code",
   "execution_count": 5,
   "id": "db60f65b",
   "metadata": {},
   "outputs": [],
   "source": [
    "signed = []"
   ]
  },
  {
   "cell_type": "code",
   "execution_count": 6,
   "id": "e79b37af",
   "metadata": {},
   "outputs": [],
   "source": [
    "for rowIdx, row in moves.iterrows():\n",
    "    way, mag = row[0], row[1]  # direction (way) & (mag)nitude\n",
    "    if way == 'L' or way == 'D':\n",
    "        signed.append(-1 * mag)\n",
    "    else:\n",
    "        signed.append(mag)"
   ]
  },
  {
   "cell_type": "code",
   "execution_count": 7,
   "id": "7f66f4bb",
   "metadata": {
    "scrolled": true
   },
   "outputs": [
    {
     "data": {
      "text/html": [
       "<div>\n",
       "<style scoped>\n",
       "    .dataframe tbody tr th:only-of-type {\n",
       "        vertical-align: middle;\n",
       "    }\n",
       "\n",
       "    .dataframe tbody tr th {\n",
       "        vertical-align: top;\n",
       "    }\n",
       "\n",
       "    .dataframe thead th {\n",
       "        text-align: right;\n",
       "    }\n",
       "</style>\n",
       "<table border=\"1\" class=\"dataframe\">\n",
       "  <thead>\n",
       "    <tr style=\"text-align: right;\">\n",
       "      <th></th>\n",
       "      <th>0</th>\n",
       "      <th>1</th>\n",
       "      <th>signed</th>\n",
       "    </tr>\n",
       "  </thead>\n",
       "  <tbody>\n",
       "    <tr>\n",
       "      <th>0</th>\n",
       "      <td>R</td>\n",
       "      <td>1</td>\n",
       "      <td>1</td>\n",
       "    </tr>\n",
       "    <tr>\n",
       "      <th>1</th>\n",
       "      <td>D</td>\n",
       "      <td>1</td>\n",
       "      <td>-1</td>\n",
       "    </tr>\n",
       "    <tr>\n",
       "      <th>2</th>\n",
       "      <td>U</td>\n",
       "      <td>1</td>\n",
       "      <td>1</td>\n",
       "    </tr>\n",
       "    <tr>\n",
       "      <th>3</th>\n",
       "      <td>R</td>\n",
       "      <td>2</td>\n",
       "      <td>2</td>\n",
       "    </tr>\n",
       "    <tr>\n",
       "      <th>4</th>\n",
       "      <td>L</td>\n",
       "      <td>2</td>\n",
       "      <td>-2</td>\n",
       "    </tr>\n",
       "    <tr>\n",
       "      <th>...</th>\n",
       "      <td>...</td>\n",
       "      <td>...</td>\n",
       "      <td>...</td>\n",
       "    </tr>\n",
       "    <tr>\n",
       "      <th>1995</th>\n",
       "      <td>U</td>\n",
       "      <td>2</td>\n",
       "      <td>2</td>\n",
       "    </tr>\n",
       "    <tr>\n",
       "      <th>1996</th>\n",
       "      <td>D</td>\n",
       "      <td>6</td>\n",
       "      <td>-6</td>\n",
       "    </tr>\n",
       "    <tr>\n",
       "      <th>1997</th>\n",
       "      <td>L</td>\n",
       "      <td>14</td>\n",
       "      <td>-14</td>\n",
       "    </tr>\n",
       "    <tr>\n",
       "      <th>1998</th>\n",
       "      <td>D</td>\n",
       "      <td>14</td>\n",
       "      <td>-14</td>\n",
       "    </tr>\n",
       "    <tr>\n",
       "      <th>1999</th>\n",
       "      <td>R</td>\n",
       "      <td>12</td>\n",
       "      <td>12</td>\n",
       "    </tr>\n",
       "  </tbody>\n",
       "</table>\n",
       "<p>2000 rows × 3 columns</p>\n",
       "</div>"
      ],
      "text/plain": [
       "      0   1  signed\n",
       "0     R   1       1\n",
       "1     D   1      -1\n",
       "2     U   1       1\n",
       "3     R   2       2\n",
       "4     L   2      -2\n",
       "...  ..  ..     ...\n",
       "1995  U   2       2\n",
       "1996  D   6      -6\n",
       "1997  L  14     -14\n",
       "1998  D  14     -14\n",
       "1999  R  12      12\n",
       "\n",
       "[2000 rows x 3 columns]"
      ]
     },
     "execution_count": 7,
     "metadata": {},
     "output_type": "execute_result"
    }
   ],
   "source": [
    "moves['signed'] = signed\n",
    "moves"
   ]
  },
  {
   "cell_type": "markdown",
   "id": "83e134bf",
   "metadata": {},
   "source": [
    "#### calc max left & right"
   ]
  },
  {
   "cell_type": "code",
   "execution_count": 8,
   "id": "5e4de48b",
   "metadata": {},
   "outputs": [],
   "source": [
    "pos = 0\n",
    "endpoints = [pos]\n",
    "for rowIdx, row in moves.iterrows():\n",
    "    if row[0] in ['U', 'D']:\n",
    "        continue\n",
    "    pos += row.signed\n",
    "    endpoints.append(pos)\n"
   ]
  },
  {
   "cell_type": "code",
   "execution_count": 9,
   "id": "0606cef3",
   "metadata": {},
   "outputs": [
    {
     "data": {
      "text/plain": [
       "(-179, 3)"
      ]
     },
     "execution_count": 9,
     "metadata": {},
     "output_type": "execute_result"
    }
   ],
   "source": [
    "left = min(endpoints)\n",
    "right = max(endpoints)\n",
    "left, right"
   ]
  },
  {
   "cell_type": "code",
   "execution_count": 10,
   "id": "28495bed",
   "metadata": {},
   "outputs": [
    {
     "name": "stdout",
     "output_type": "stream",
     "text": [
      "width is 183\n"
     ]
    }
   ],
   "source": [
    "print(f'width is {right - left + 1}')"
   ]
  },
  {
   "cell_type": "markdown",
   "id": "b094eb7f",
   "metadata": {},
   "source": [
    "#### calc max up & down"
   ]
  },
  {
   "cell_type": "code",
   "execution_count": 11,
   "id": "96391677",
   "metadata": {},
   "outputs": [],
   "source": [
    "pos = 0\n",
    "endpoints = [pos]\n",
    "for rowIdx, row in moves.iterrows():\n",
    "    if row[0] in ['L', 'R']:\n",
    "        continue\n",
    "    pos += row.signed\n",
    "    endpoints.append(pos)\n"
   ]
  },
  {
   "cell_type": "code",
   "execution_count": 12,
   "id": "8e990c98",
   "metadata": {},
   "outputs": [
    {
     "data": {
      "text/plain": [
       "(93, -142)"
      ]
     },
     "execution_count": 12,
     "metadata": {},
     "output_type": "execute_result"
    }
   ],
   "source": [
    "up = max(endpoints)\n",
    "down = min(endpoints)\n",
    "up, down"
   ]
  },
  {
   "cell_type": "code",
   "execution_count": 13,
   "id": "82cf5b20",
   "metadata": {},
   "outputs": [
    {
     "name": "stdout",
     "output_type": "stream",
     "text": [
      "height is 236\n"
     ]
    }
   ],
   "source": [
    "print(f'height is {up - down + 1}')"
   ]
  }
 ],
 "metadata": {
  "kernelspec": {
   "display_name": "Python 3 (ipykernel)",
   "language": "python",
   "name": "python3"
  },
  "language_info": {
   "codemirror_mode": {
    "name": "ipython",
    "version": 3
   },
   "file_extension": ".py",
   "mimetype": "text/x-python",
   "name": "python",
   "nbconvert_exporter": "python",
   "pygments_lexer": "ipython3",
   "version": "3.9.13"
  }
 },
 "nbformat": 4,
 "nbformat_minor": 5
}
